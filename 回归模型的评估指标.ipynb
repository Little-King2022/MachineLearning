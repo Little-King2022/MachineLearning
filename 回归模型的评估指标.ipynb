{
 "cells": [
  {
   "cell_type": "markdown",
   "id": "de4213fb",
   "metadata": {},
   "source": [
    "回归模型的评估指标:\n",
    "\n",
    "    均方误差: MSE \n",
    "    \n",
    "    均方根误差: RMSE\n",
    "\n",
    "    平均绝对误差: MAE\n",
    "\n",
    "    R平方(可决系数) R Square: R^2"
   ]
  },
  {
   "cell_type": "markdown",
   "id": "2c4dffc4",
   "metadata": {},
   "source": [
    "# 波士顿房价回归预测数据集"
   ]
  },
  {
   "cell_type": "code",
   "execution_count": 1,
   "id": "fffb5fe8",
   "metadata": {},
   "outputs": [],
   "source": [
    "import pandas as pd\n",
    "import numpy as np\n",
    "\n",
    "from sklearn.model_selection import train_test_split\n",
    "from sklearn.linear_model import LinearRegression\n",
    "from sklearn import metrics # 评估指标\n",
    "import matplotlib.pyplot as plt\n",
    "%matplotlib inline\n",
    "\n",
    "import warnings\n",
    "warnings.filterwarnings('ignore') "
   ]
  },
  {
   "cell_type": "code",
   "execution_count": 2,
   "id": "773d4fb3",
   "metadata": {},
   "outputs": [],
   "source": [
    "housing_data = pd.read_csv('boston_house_price_english.csv')"
   ]
  },
  {
   "cell_type": "code",
   "execution_count": 3,
   "id": "d48a945f",
   "metadata": {},
   "outputs": [
    {
     "name": "stdout",
     "output_type": "stream",
     "text": [
      "crim       False\n",
      "zn         False\n",
      "indus      False\n",
      "chas       False\n",
      "nox        False\n",
      "rm         False\n",
      "age        False\n",
      "dis        False\n",
      "rad        False\n",
      "tax        False\n",
      "ptratio    False\n",
      "b          False\n",
      "lstat      False\n",
      "medv       False\n",
      "dtype: bool\n"
     ]
    }
   ],
   "source": [
    "print(np.isnan(housing_data).any())"
   ]
  },
  {
   "cell_type": "code",
   "execution_count": 4,
   "id": "96d4b472",
   "metadata": {},
   "outputs": [],
   "source": [
    "# train.dropna(inplace=True) # 删除有缺失值的行\n",
    "# train.fillna(‘100’) # 对缺失值进行填充处理"
   ]
  },
  {
   "cell_type": "code",
   "execution_count": 5,
   "id": "40fa0fb0",
   "metadata": {},
   "outputs": [
    {
     "data": {
      "text/html": [
       "<div>\n",
       "<style scoped>\n",
       "    .dataframe tbody tr th:only-of-type {\n",
       "        vertical-align: middle;\n",
       "    }\n",
       "\n",
       "    .dataframe tbody tr th {\n",
       "        vertical-align: top;\n",
       "    }\n",
       "\n",
       "    .dataframe thead th {\n",
       "        text-align: right;\n",
       "    }\n",
       "</style>\n",
       "<table border=\"1\" class=\"dataframe\">\n",
       "  <thead>\n",
       "    <tr style=\"text-align: right;\">\n",
       "      <th></th>\n",
       "      <th>crim</th>\n",
       "      <th>zn</th>\n",
       "      <th>indus</th>\n",
       "      <th>chas</th>\n",
       "      <th>nox</th>\n",
       "      <th>rm</th>\n",
       "      <th>age</th>\n",
       "      <th>dis</th>\n",
       "      <th>rad</th>\n",
       "      <th>tax</th>\n",
       "      <th>ptratio</th>\n",
       "      <th>b</th>\n",
       "      <th>lstat</th>\n",
       "      <th>medv</th>\n",
       "    </tr>\n",
       "  </thead>\n",
       "  <tbody>\n",
       "    <tr>\n",
       "      <th>0</th>\n",
       "      <td>0.00632</td>\n",
       "      <td>18.0</td>\n",
       "      <td>2.31</td>\n",
       "      <td>0</td>\n",
       "      <td>0.538</td>\n",
       "      <td>6.575</td>\n",
       "      <td>65.2</td>\n",
       "      <td>4.0900</td>\n",
       "      <td>1</td>\n",
       "      <td>296</td>\n",
       "      <td>15.3</td>\n",
       "      <td>396.90</td>\n",
       "      <td>4.98</td>\n",
       "      <td>24.0</td>\n",
       "    </tr>\n",
       "    <tr>\n",
       "      <th>1</th>\n",
       "      <td>0.02731</td>\n",
       "      <td>0.0</td>\n",
       "      <td>7.07</td>\n",
       "      <td>0</td>\n",
       "      <td>0.469</td>\n",
       "      <td>6.421</td>\n",
       "      <td>78.9</td>\n",
       "      <td>4.9671</td>\n",
       "      <td>2</td>\n",
       "      <td>242</td>\n",
       "      <td>17.8</td>\n",
       "      <td>396.90</td>\n",
       "      <td>9.14</td>\n",
       "      <td>21.6</td>\n",
       "    </tr>\n",
       "    <tr>\n",
       "      <th>2</th>\n",
       "      <td>0.02729</td>\n",
       "      <td>0.0</td>\n",
       "      <td>7.07</td>\n",
       "      <td>0</td>\n",
       "      <td>0.469</td>\n",
       "      <td>7.185</td>\n",
       "      <td>61.1</td>\n",
       "      <td>4.9671</td>\n",
       "      <td>2</td>\n",
       "      <td>242</td>\n",
       "      <td>17.8</td>\n",
       "      <td>392.83</td>\n",
       "      <td>4.03</td>\n",
       "      <td>34.7</td>\n",
       "    </tr>\n",
       "    <tr>\n",
       "      <th>3</th>\n",
       "      <td>0.03237</td>\n",
       "      <td>0.0</td>\n",
       "      <td>2.18</td>\n",
       "      <td>0</td>\n",
       "      <td>0.458</td>\n",
       "      <td>6.998</td>\n",
       "      <td>45.8</td>\n",
       "      <td>6.0622</td>\n",
       "      <td>3</td>\n",
       "      <td>222</td>\n",
       "      <td>18.7</td>\n",
       "      <td>394.63</td>\n",
       "      <td>2.94</td>\n",
       "      <td>33.4</td>\n",
       "    </tr>\n",
       "    <tr>\n",
       "      <th>4</th>\n",
       "      <td>0.06905</td>\n",
       "      <td>0.0</td>\n",
       "      <td>2.18</td>\n",
       "      <td>0</td>\n",
       "      <td>0.458</td>\n",
       "      <td>7.147</td>\n",
       "      <td>54.2</td>\n",
       "      <td>6.0622</td>\n",
       "      <td>3</td>\n",
       "      <td>222</td>\n",
       "      <td>18.7</td>\n",
       "      <td>396.90</td>\n",
       "      <td>5.33</td>\n",
       "      <td>36.2</td>\n",
       "    </tr>\n",
       "  </tbody>\n",
       "</table>\n",
       "</div>"
      ],
      "text/plain": [
       "      crim    zn  indus  chas    nox     rm   age     dis  rad  tax  ptratio  \\\n",
       "0  0.00632  18.0   2.31     0  0.538  6.575  65.2  4.0900    1  296     15.3   \n",
       "1  0.02731   0.0   7.07     0  0.469  6.421  78.9  4.9671    2  242     17.8   \n",
       "2  0.02729   0.0   7.07     0  0.469  7.185  61.1  4.9671    2  242     17.8   \n",
       "3  0.03237   0.0   2.18     0  0.458  6.998  45.8  6.0622    3  222     18.7   \n",
       "4  0.06905   0.0   2.18     0  0.458  7.147  54.2  6.0622    3  222     18.7   \n",
       "\n",
       "        b  lstat  medv  \n",
       "0  396.90   4.98  24.0  \n",
       "1  396.90   9.14  21.6  \n",
       "2  392.83   4.03  34.7  \n",
       "3  394.63   2.94  33.4  \n",
       "4  396.90   5.33  36.2  "
      ]
     },
     "execution_count": 5,
     "metadata": {},
     "output_type": "execute_result"
    }
   ],
   "source": [
    "housing_data.head()"
   ]
  },
  {
   "cell_type": "code",
   "execution_count": 6,
   "id": "e3a99614",
   "metadata": {},
   "outputs": [],
   "source": [
    "X = housing_data.drop(['medv'],axis = 1)"
   ]
  },
  {
   "cell_type": "code",
   "execution_count": 7,
   "id": "821b0b65",
   "metadata": {},
   "outputs": [],
   "source": [
    "y = housing_data['medv']"
   ]
  },
  {
   "cell_type": "code",
   "execution_count": 8,
   "id": "2dcfc860",
   "metadata": {},
   "outputs": [],
   "source": [
    "# random_state就是为了保证程序每次运行都分割一样的训练集和测试集。否则，同样的算法模型在不同的训练集和测试集上的效果不一样。\n",
    "# 当你用sklearn分割完测试集和训练集，确定模型和初始参数以后，你会发现程序每运行一次，都会得到不同的准确率，无法调参。\n",
    "# 这个时候就是因为没有加random_state。加上以后就可以调参了。\n",
    "\n",
    "X_train, X_test, y_train, y_test = train_test_split(X, y, random_state=0) # 随机数种子：random_state"
   ]
  },
  {
   "cell_type": "code",
   "execution_count": 9,
   "id": "453add77",
   "metadata": {},
   "outputs": [],
   "source": [
    "model = LinearRegression()"
   ]
  },
  {
   "cell_type": "code",
   "execution_count": 10,
   "id": "69134512",
   "metadata": {},
   "outputs": [
    {
     "data": {
      "text/plain": [
       "LinearRegression()"
      ]
     },
     "execution_count": 10,
     "metadata": {},
     "output_type": "execute_result"
    }
   ],
   "source": [
    "model.fit(X_train, y_train)  #用这个模型去fit(拟合) 训练集上的特征与标签,这样就产生了一个线性回归模型"
   ]
  },
  {
   "cell_type": "code",
   "execution_count": 11,
   "id": "da70032a",
   "metadata": {},
   "outputs": [],
   "source": [
    "y_pred_class = model.predict(X_test)"
   ]
  },
  {
   "cell_type": "code",
   "execution_count": 12,
   "id": "9bf80f12",
   "metadata": {},
   "outputs": [
    {
     "data": {
      "text/plain": [
       "array([24.95233283, 23.61699724, 29.20588553, 11.96070515, 21.33362042,\n",
       "       19.46954895, 20.42228421, 21.52044058, 18.98954101, 19.950983  ,\n",
       "        4.92468244, 16.09694058, 16.93599574,  5.33508402, 39.84434398,\n",
       "       32.33549843, 22.32772572, 36.54017819, 31.03300611, 23.32172503,\n",
       "       24.92086498, 24.26106474, 20.71504422, 30.45072552, 22.45009234,\n",
       "        9.87470006, 17.70324412, 17.974775  , 35.69932012, 20.7940972 ,\n",
       "       18.10554174, 17.68317865, 19.71354713, 23.79693873, 29.06528958,\n",
       "       19.23738284, 10.97815878, 24.56199978, 17.32913052, 15.20340817,\n",
       "       26.09337458, 20.87706795, 22.26187518, 15.32582693, 22.85847963,\n",
       "       25.08887173, 19.74138819, 22.70744911,  9.66708558, 24.46175926,\n",
       "       20.72654169, 17.52545047, 24.45596997, 30.10668865, 13.31250981,\n",
       "       21.52052342, 20.65642932, 15.34285652, 13.7741129 , 22.07429287,\n",
       "       17.53293957, 21.60707766, 32.91050188, 31.32796114, 17.64346364,\n",
       "       32.69909854, 18.56579207, 19.32110821, 18.81256692, 23.04351442,\n",
       "       22.81649956, 23.99800754, 30.62733254, 28.8662207 , 25.78198145,\n",
       "        5.00689605, 36.83409088, 23.80490328, 27.36965299, 19.33057146,\n",
       "       28.51439846, 19.19147448, 18.81694283, 37.94245021, 39.3441055 ,\n",
       "       23.90759744, 24.95985846, 15.70262358, 25.92060968, 16.56968829,\n",
       "       15.76303806, 12.89190083, 24.4389405 , 30.9319885 , 22.36798609,\n",
       "       20.17628607,  0.22819711, 25.26459847, 15.35369364, 17.7983399 ,\n",
       "       25.44689554, 22.46612234, 32.57911019, 22.01436262, 27.37542798,\n",
       "       23.31348039,  6.29811532, 14.75925592, 22.44945223, 29.11172812,\n",
       "       32.97160856, 12.85457141, 19.79963356, 20.60017439, 12.06928939,\n",
       "       23.38532482,  4.75243811, 19.8342911 ,  9.17555571, 44.63299931,\n",
       "       30.63144603, 12.29971299, 17.53804831, 21.50222331, 23.63281301,\n",
       "       20.28259817, 35.17973368])"
      ]
     },
     "execution_count": 12,
     "metadata": {},
     "output_type": "execute_result"
    }
   ],
   "source": [
    "y_pred_class"
   ]
  },
  {
   "cell_type": "code",
   "execution_count": 13,
   "id": "0b436494",
   "metadata": {},
   "outputs": [
    {
     "data": {
      "text/plain": [
       "(127,)"
      ]
     },
     "execution_count": 13,
     "metadata": {},
     "output_type": "execute_result"
    }
   ],
   "source": [
    "y_pred_class.shape"
   ]
  },
  {
   "cell_type": "markdown",
   "id": "b7ee8e02",
   "metadata": {},
   "source": [
    "# Mean Absolute error  平均绝对误差 "
   ]
  },
  {
   "cell_type": "markdown",
   "id": "ac25399c",
   "metadata": {},
   "source": [
    "计算预测值与真实值之间的绝对值之差 "
   ]
  },
  {
   "cell_type": "code",
   "execution_count": 14,
   "id": "c94ed248",
   "metadata": {},
   "outputs": [
    {
     "data": {
      "text/plain": [
       "3.668330148135727"
      ]
     },
     "execution_count": 14,
     "metadata": {},
     "output_type": "execute_result"
    }
   ],
   "source": [
    "metrics.mean_absolute_error(y_test, y_pred_class)"
   ]
  },
  {
   "cell_type": "markdown",
   "id": "c3db7abe",
   "metadata": {},
   "source": [
    " # Mean Squared error  均方误差 "
   ]
  },
  {
   "cell_type": "markdown",
   "id": "ddfb6be1",
   "metadata": {},
   "source": [
    "计算MSE之前必须去掉所有缺失值"
   ]
  },
  {
   "cell_type": "code",
   "execution_count": 15,
   "id": "c80b5223",
   "metadata": {},
   "outputs": [
    {
     "data": {
      "text/plain": [
       "29.7822450923024"
      ]
     },
     "execution_count": 15,
     "metadata": {},
     "output_type": "execute_result"
    }
   ],
   "source": [
    "metrics.mean_squared_error(y_test, y_pred_class)"
   ]
  },
  {
   "cell_type": "markdown",
   "id": "d6a947c8",
   "metadata": {},
   "source": [
    "# RMSE  均方根误差 "
   ]
  },
  {
   "cell_type": "markdown",
   "id": "15166355",
   "metadata": {},
   "source": [
    "```\n",
    "·RMSE时MSE的平方根\n",
    "·RMSE通常比MAE大\n",
    "·RMSE的量纲与原始数据量纲相同\n",
    "·RMSE便于求导,因此通常作为回归模型的评估指标\n",
    "```"
   ]
  },
  {
   "cell_type": "code",
   "execution_count": 16,
   "id": "494008ea",
   "metadata": {},
   "outputs": [
    {
     "name": "stdout",
     "output_type": "stream",
     "text": [
      "5.457311159564058\n"
     ]
    }
   ],
   "source": [
    "from math import sqrt\n",
    "print(sqrt(metrics.mean_squared_error(y_test, y_pred_class)))"
   ]
  },
  {
   "cell_type": "markdown",
   "id": "23368d42",
   "metadata": {},
   "source": [
    "# Root Mean Squared Logarithmic Error 均方根对数误差"
   ]
  },
  {
   "cell_type": "markdown",
   "id": "ee3d8007",
   "metadata": {},
   "source": [
    "```\n",
    "使用RMSLE的优点\n",
    "1.RMSLE惩罚欠预测大于过预测，适用于某些需要欠预测损失更大的场景，如预测共享单车需求，欠预测会导致共享单车供应量不足。\n",
    "\n",
    "假如真实值为1000，若预测值为600，那么RMSE=400，RMSLE=0.510\n",
    "\n",
    "假如真实值为1000，若预测值为1400，那么RMSE=400，RMSLE=0.336\n",
    "\n",
    "在RMSE相同的情况下，预测值比真实值小这种情况的RMSLE比较大，即对于预测值小这种情况惩罚较大。\n",
    "\n",
    "2.如果预测的值的范围很大，RMSE会被一些大的值主导。这样即使很多较小的值预测准了，但是有一个非常大的值预测的不准确，RMSE就会很大。相应的，如果另外一个比较差的算法对这一个大的值准确一些，但是很多小的值都有偏差，可能RMSE会比前一个小(即实际的预测表现没有数据表现的那么好, 对被评估数据所迷惑,所以要对其进行惩罚)。先取log再求RMSE，可以稍微解决这个问题。RMSE一般对于固定的平均分布的预测值才合理。\n",
    "\n",
    "直观的经验是这样的，当数据当中有少量的值和真实值差值较大的时候，使用log函数能够减少这些值对于整体误差的影响。\n",
    "```"
   ]
  },
  {
   "cell_type": "code",
   "execution_count": 17,
   "id": "9aaf8f43",
   "metadata": {},
   "outputs": [
    {
     "data": {
      "text/plain": [
       "0.10011074434043886"
      ]
     },
     "execution_count": 17,
     "metadata": {},
     "output_type": "execute_result"
    }
   ],
   "source": [
    "metrics.mean_squared_log_error(y_test, y_pred_class)"
   ]
  },
  {
   "cell_type": "markdown",
   "id": "036bd12b",
   "metadata": {},
   "source": [
    "# R_squared R平方(可决系数)"
   ]
  },
  {
   "cell_type": "markdown",
   "id": "e443af0a",
   "metadata": {},
   "source": [
    "```\n",
    "在分类问题中，我们经常将随机分类器作为基准模型，随机分类器的准确率是0.5。\n",
    "\n",
    "在回归问题中，我们将输出平均值的回归器作为基准模型。\n",
    "\n",
    "将一个回归模型的MSE除以基准模型的MSE，就可以计算R平方了。\n",
    "\n",
    "如果一个回归模型与基准模型一样差，那么R平方是0。\n",
    "\n",
    "如果一个回归模型完全预测正确，那么R平方是1。\n",
    "\n",
    "如果一个回归模型比基准模型还差，那么R平方是负数。\n",
    "```"
   ]
  },
  {
   "cell_type": "code",
   "execution_count": 18,
   "id": "ae61ee1a",
   "metadata": {},
   "outputs": [
    {
     "data": {
      "text/plain": [
       "0.6354638433202124"
      ]
     },
     "execution_count": 18,
     "metadata": {},
     "output_type": "execute_result"
    }
   ],
   "source": [
    "metrics.r2_score(y_test, y_pred_class)"
   ]
  },
  {
   "cell_type": "markdown",
   "id": "0d48598d",
   "metadata": {},
   "source": [
    "# Adjusted R-Squared 修正R平方"
   ]
  },
  {
   "cell_type": "markdown",
   "id": "cb9ef221",
   "metadata": {},
   "source": [
    "```\n",
    "在其他变量不变的情况下，引入新的变量，总能提高模型的准确度，但增加特征却让模型变的更加复杂，这种准确度提升也是虚假的。修正R平方相当于给特征的个数加惩罚项。\n",
    "换句话说，如果两个模型，样本数一样，R平方一样，使用变量个数少的那个模型更优，这正是奥卡姆剃刀原理的思想。如无必要，勿增实体。\n",
    "\n",
    "```"
   ]
  },
  {
   "cell_type": "markdown",
   "id": "3ce3d445",
   "metadata": {},
   "source": [
    "# 修正R平方与RMSE的比较"
   ]
  },
  {
   "cell_type": "markdown",
   "id": "c3cce836",
   "metadata": {},
   "source": [
    "```\n",
    "Absolute value of RMSE does not actually tell how good/bad a model is. lt can only be used to compare across two modelswhereas Adjusted R3 easily does that. For example, if a model has adjusted R3 equal to 0.05 then it is definitely bad.\n",
    "\n",
    "However, if we care only about prediction accuracy then RMSE is best.lt is computationally simple, easilydifferentiable andpresent as default metric for most of the models.\n",
    "\n",
    "RMSE的大小仅仅反映模型预测值与真实值的偏差，不能反映模型真正的好坏，也许一个算命先生胡谄的预测值，RMSE确实很小，但瞎猫碰上死耗子不能说明什么。\n",
    "\n",
    "但如果一个模型的修正R平方是0.05，那这个模型肯定很烂。\n",
    "\n",
    "RMSE的好处在于便于微分求导，也便于比较不同模型的偏差，所以各类数据科学竞赛都经常把RMSE作为默认的评估指标。\n",
    "```"
   ]
  }
 ],
 "metadata": {
  "kernelspec": {
   "display_name": "Python [conda env:pytorch] *",
   "language": "python",
   "name": "conda-env-pytorch-py"
  },
  "language_info": {
   "codemirror_mode": {
    "name": "ipython",
    "version": 3
   },
   "file_extension": ".py",
   "mimetype": "text/x-python",
   "name": "python",
   "nbconvert_exporter": "python",
   "pygments_lexer": "ipython3",
   "version": "3.7.11"
  }
 },
 "nbformat": 4,
 "nbformat_minor": 5
}
